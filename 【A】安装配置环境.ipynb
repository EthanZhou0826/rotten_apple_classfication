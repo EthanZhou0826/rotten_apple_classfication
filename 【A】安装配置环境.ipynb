{
 "cells": [
  {
   "cell_type": "markdown",
   "id": "68aa2c39-1a4b-4d3c-ab35-3d44896f2f67",
   "metadata": {},
   "source": [
    "# 安装配置环境"
   ]
  },
  {
   "cell_type": "markdown",
   "id": "d56b4a5f-8ec2-4493-8344-580ed67d3d25",
   "metadata": {},
   "source": [
    "## 直接运行代码块即可"
   ]
  },
  {
   "cell_type": "code",
   "execution_count": 4,
   "id": "83c98888-79c0-4f4c-8e64-b9cc65ac797e",
   "metadata": {},
   "outputs": [
    {
     "name": "stdout",
     "output_type": "stream",
     "text": [
      "Looking in indexes: https://pypi.tuna.tsinghua.edu.cn/simple\n",
      "Requirement already satisfied: numpy in /home/featurize/work/.local/lib/python3.7/site-packages (1.19.3)\n",
      "Requirement already satisfied: pandas in /environment/miniconda3/lib/python3.7/site-packages (1.3.4)\n",
      "Requirement already satisfied: matplotlib in /environment/miniconda3/lib/python3.7/site-packages (3.5.0)\n",
      "Requirement already satisfied: requests in /environment/miniconda3/lib/python3.7/site-packages (2.24.0)\n",
      "Requirement already satisfied: tqdm in /environment/miniconda3/lib/python3.7/site-packages (4.61.2)\n",
      "Requirement already satisfied: opencv-python in /environment/miniconda3/lib/python3.7/site-packages (4.5.4.60)\n",
      "Requirement already satisfied: pillow in /environment/miniconda3/lib/python3.7/site-packages (8.4.0)\n",
      "Requirement already satisfied: python-dateutil>=2.7.3 in /environment/miniconda3/lib/python3.7/site-packages (from pandas) (2.8.2)\n",
      "Requirement already satisfied: pytz>=2017.3 in /environment/miniconda3/lib/python3.7/site-packages (from pandas) (2021.3)\n",
      "Requirement already satisfied: six>=1.5 in /environment/miniconda3/lib/python3.7/site-packages (from python-dateutil>=2.7.3->pandas) (1.16.0)\n",
      "Requirement already satisfied: pyparsing>=2.2.1 in /environment/miniconda3/lib/python3.7/site-packages (from matplotlib) (3.0.6)\n",
      "Requirement already satisfied: setuptools-scm>=4 in /environment/miniconda3/lib/python3.7/site-packages (from matplotlib) (6.3.2)\n",
      "Requirement already satisfied: packaging>=20.0 in /environment/miniconda3/lib/python3.7/site-packages (from matplotlib) (21.3)\n",
      "Requirement already satisfied: fonttools>=4.22.0 in /environment/miniconda3/lib/python3.7/site-packages (from matplotlib) (4.28.3)\n",
      "Requirement already satisfied: cycler>=0.10 in /environment/miniconda3/lib/python3.7/site-packages (from matplotlib) (0.11.0)\n",
      "Requirement already satisfied: kiwisolver>=1.0.1 in /environment/miniconda3/lib/python3.7/site-packages (from matplotlib) (1.3.2)\n",
      "Requirement already satisfied: tomli>=1.0.0 in /environment/miniconda3/lib/python3.7/site-packages (from setuptools-scm>=4->matplotlib) (1.2.2)\n",
      "Requirement already satisfied: setuptools in /environment/miniconda3/lib/python3.7/site-packages (from setuptools-scm>=4->matplotlib) (52.0.0.post20210125)\n",
      "Requirement already satisfied: urllib3!=1.25.0,!=1.25.1,<1.26,>=1.21.1 in /environment/miniconda3/lib/python3.7/site-packages (from requests) (1.25.11)\n",
      "Requirement already satisfied: certifi>=2017.4.17 in /environment/miniconda3/lib/python3.7/site-packages (from requests) (2021.5.30)\n",
      "Requirement already satisfied: idna<3,>=2.5 in /environment/miniconda3/lib/python3.7/site-packages (from requests) (2.10)\n",
      "Requirement already satisfied: chardet<4,>=3.0.2 in /environment/miniconda3/lib/python3.7/site-packages (from requests) (3.0.4)\n"
     ]
    }
   ],
   "source": [
    "!pip install numpy pandas matplotlib requests tqdm opencv-python pillow -i https://pypi.tuna.tsinghua.edu.cn/simple"
   ]
  },
  {
   "cell_type": "markdown",
   "id": "f34acebb-ad33-4775-a842-3df6e4cce3fb",
   "metadata": {},
   "source": [
    "## 下载安装Pytorch"
   ]
  },
  {
   "cell_type": "code",
   "execution_count": 5,
   "id": "f9c9f8de-2c5e-477e-8893-f1435e3ff331",
   "metadata": {},
   "outputs": [
    {
     "name": "stdout",
     "output_type": "stream",
     "text": [
      "Looking in indexes: https://pypi.tuna.tsinghua.edu.cn/simple, https://download.pytorch.org/whl/cu113\n",
      "Requirement already satisfied: torch in /environment/miniconda3/lib/python3.7/site-packages (1.10.0+cu113)\n",
      "Requirement already satisfied: torchvision in /environment/miniconda3/lib/python3.7/site-packages (0.11.1+cu113)\n",
      "Requirement already satisfied: torchaudio in /environment/miniconda3/lib/python3.7/site-packages (0.10.0+cu113)\n",
      "Requirement already satisfied: typing-extensions in /environment/miniconda3/lib/python3.7/site-packages (from torch) (4.0.1)\n",
      "Requirement already satisfied: pillow!=8.3.0,>=5.3.0 in /environment/miniconda3/lib/python3.7/site-packages (from torchvision) (8.4.0)\n",
      "Requirement already satisfied: numpy in /home/featurize/work/.local/lib/python3.7/site-packages (from torchvision) (1.19.3)\n"
     ]
    }
   ],
   "source": [
    "!pip3 install torch torchvision torchaudio --extra-index-url https://download.pytorch.org/whl/cu113"
   ]
  },
  {
   "cell_type": "markdown",
   "id": "f82fef37-f204-4029-9e9d-8556fb22def0",
   "metadata": {},
   "source": [
    "## 下载安装 mmcv-full"
   ]
  },
  {
   "cell_type": "code",
   "execution_count": 4,
   "id": "75203561-5659-40cb-ad35-202a316d6641",
   "metadata": {},
   "outputs": [
    {
     "name": "stdout",
     "output_type": "stream",
     "text": [
      "Looking in links: https://download.openmmlab.com/mmcv/dist/cu113/torch1.10.0/index.html\n",
      "\u001b[33mWARNING: Retrying (Retry(total=4, connect=None, read=None, redirect=None, status=None)) after connection broken by 'NewConnectionError('<pip._vendor.urllib3.connection.HTTPSConnection object at 0x105172bb0>: Failed to establish a new connection: [Errno 8] nodename nor servname provided, or not known')': /mmcv/dist/cu113/torch1.10.0/index.html\u001b[0m\u001b[33m\n",
      "\u001b[0m\u001b[33mWARNING: Retrying (Retry(total=3, connect=None, read=None, redirect=None, status=None)) after connection broken by 'NewConnectionError('<pip._vendor.urllib3.connection.HTTPSConnection object at 0x105172ee0>: Failed to establish a new connection: [Errno 8] nodename nor servname provided, or not known')': /mmcv/dist/cu113/torch1.10.0/index.html\u001b[0m\u001b[33m\n",
      "\u001b[0m\u001b[33mWARNING: Retrying (Retry(total=2, connect=None, read=None, redirect=None, status=None)) after connection broken by 'NewConnectionError('<pip._vendor.urllib3.connection.HTTPSConnection object at 0x105172fa0>: Failed to establish a new connection: [Errno 8] nodename nor servname provided, or not known')': /mmcv/dist/cu113/torch1.10.0/index.html\u001b[0m\u001b[33m\n",
      "\u001b[0m\u001b[33mWARNING: Retrying (Retry(total=1, connect=None, read=None, redirect=None, status=None)) after connection broken by 'NewConnectionError('<pip._vendor.urllib3.connection.HTTPSConnection object at 0x105195280>: Failed to establish a new connection: [Errno 8] nodename nor servname provided, or not known')': /mmcv/dist/cu113/torch1.10.0/index.html\u001b[0m\u001b[33m\n",
      "\u001b[0mCollecting mmcv-full\n",
      "  Downloading mmcv-full-1.7.1.tar.gz (605 kB)\n",
      "\u001b[2K     \u001b[90m━━━━━━━━━━━━━━━━━━━━━━━━━━━━━━━━━━━━━━━\u001b[0m \u001b[32m605.4/605.4 kB\u001b[0m \u001b[31m1.1 MB/s\u001b[0m eta \u001b[36m0:00:00\u001b[0m00:01\u001b[0m00:01\u001b[0m\n",
      "\u001b[?25h  Preparing metadata (setup.py) ... \u001b[?25ldone\n",
      "\u001b[?25hCollecting addict\n",
      "  Downloading addict-2.4.0-py3-none-any.whl (3.8 kB)\n",
      "Requirement already satisfied: numpy in /Users/zhou/opt/anaconda3/lib/python3.9/site-packages (from mmcv-full) (1.23.5)\n",
      "Requirement already satisfied: packaging in /Users/zhou/opt/anaconda3/lib/python3.9/site-packages (from mmcv-full) (22.0)\n",
      "Requirement already satisfied: Pillow in /Users/zhou/opt/anaconda3/lib/python3.9/site-packages (from mmcv-full) (9.4.0)\n",
      "Requirement already satisfied: pyyaml in /Users/zhou/opt/anaconda3/lib/python3.9/site-packages (from mmcv-full) (6.0)\n",
      "Requirement already satisfied: yapf in /Users/zhou/opt/anaconda3/lib/python3.9/site-packages (from mmcv-full) (0.31.0)\n",
      "Building wheels for collected packages: mmcv-full\n",
      "  Building wheel for mmcv-full (setup.py) ... \u001b[?25ldone\n",
      "\u001b[?25h  Created wheel for mmcv-full: filename=mmcv_full-1.7.1-cp39-cp39-macosx_11_0_arm64.whl size=1356711 sha256=6636b8f9242e7f1b9db8516f9ef0c149d3204569c5cc28d6839dce06936ef824\n",
      "  Stored in directory: /Users/zhou/Library/Caches/pip/wheels/a1/78/47/a5d1ef217dc268d3aac1355a247abaa399ace3ead270bf03a3\n",
      "Successfully built mmcv-full\n",
      "Installing collected packages: addict, mmcv-full\n",
      "Successfully installed addict-2.4.0 mmcv-full-1.7.1\n"
     ]
    }
   ],
   "source": [
    "# 安装mmcv -full\n",
    "!pip install mmcv-full -f https://download.openmmlab.com/mmcv/dist/cu113/torch1.10.0/index.html"
   ]
  },
  {
   "cell_type": "markdown",
   "id": "5628a6f7-e356-4d45-95ee-17fcb316b3c7",
   "metadata": {},
   "source": [
    "sudo brew install wget## 创建目录"
   ]
  },
  {
   "cell_type": "code",
   "execution_count": 8,
   "id": "d149db7a-5f6e-4513-b5c2-72fdf3eb3e2a",
   "metadata": {},
   "outputs": [],
   "source": [
    "import os"
   ]
  },
  {
   "cell_type": "code",
   "execution_count": 9,
   "id": "97a32738-da46-4b63-8b37-8a37dbf79602",
   "metadata": {},
   "outputs": [],
   "source": [
    "# 存放测试图片\n",
    "os.mkdir('test_img')\n",
    "\n",
    "# 存放结果文件\n",
    "os.mkdir('output')\n",
    "\n",
    "# 存放训练得到的模型权重\n",
    "os.mkdir('checkpoints')"
   ]
  },
  {
   "cell_type": "code",
   "execution_count": 2,
   "id": "e6a8af94",
   "metadata": {},
   "outputs": [
    {
     "name": "stdout",
     "output_type": "stream",
     "text": [
      "--2023-03-23 18:24:17--  https://zihao-openmmlab.obs.cn-east-3.myhuaweicloud.com/20220716-mmclassification/dataset/SimHei.ttf\n",
      "Resolving zihao-openmmlab.obs.cn-east-3.myhuaweicloud.com (zihao-openmmlab.obs.cn-east-3.myhuaweicloud.com)... 121.36.235.132\n",
      "Connecting to zihao-openmmlab.obs.cn-east-3.myhuaweicloud.com (zihao-openmmlab.obs.cn-east-3.myhuaweicloud.com)|121.36.235.132|:443... connected.\n",
      "HTTP request sent, awaiting response... 200 OK\n",
      "Length: 10050868 (9.6M) [application/x-font-ttf]\n",
      "Saving to: ‘SimHei.ttf’\n",
      "\n",
      "SimHei.ttf          100%[===================>]   9.58M  1.47MB/s    in 6.4s    \n",
      "\n",
      "2023-03-23 18:24:24 (1.49 MB/s) - ‘SimHei.ttf’ saved [10050868/10050868]\n",
      "\n"
     ]
    }
   ],
   "source": [
    "# 下载中文字体\n",
    "!wget https://zihao-openmmlab.obs.cn-east-3.myhuaweicloud.com/20220716-mmclassification/dataset/SimHei.ttf"
   ]
  },
  {
   "cell_type": "code",
   "execution_count": null,
   "id": "4ca0a0cd",
   "metadata": {},
   "outputs": [],
   "source": []
  }
 ],
 "metadata": {
  "kernelspec": {
   "display_name": "Python 3 (ipykernel)",
   "language": "python",
   "name": "python3"
  },
  "language_info": {
   "codemirror_mode": {
    "name": "ipython",
    "version": 3
   },
   "file_extension": ".py",
   "mimetype": "text/x-python",
   "name": "python",
   "nbconvert_exporter": "python",
   "pygments_lexer": "ipython3",
   "version": "3.9.16"
  }
 },
 "nbformat": 4,
 "nbformat_minor": 5
}
